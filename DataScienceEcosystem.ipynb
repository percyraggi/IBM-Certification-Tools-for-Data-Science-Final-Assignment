{
 "cells": [
  {
   "cell_type": "markdown",
   "id": "d41ca301-0d5d-4cd5-9418-b4e442b8025c",
   "metadata": {},
   "source": [
    "# Data Science Tools and Ecosystem"
   ]
  },
  {
   "cell_type": "markdown",
   "id": "0b9f8b6a-aac8-4465-a0d6-0f474e00bb69",
   "metadata": {},
   "source": [
    "In this notebook, Data Science Tools and Ecosystem are summarized."
   ]
  },
  {
   "cell_type": "markdown",
   "id": "f7011cad-98b1-4597-80bb-226c589ce54f",
   "metadata": {},
   "source": [
    "**Objectives:**\n",
    "- List a few popular languages for Data Science\n",
    "- List a few commonly used libraries for Data Science\n",
    "- Review how to solve some simple arithmetic expressions using Python"
   ]
  },
  {
   "cell_type": "markdown",
   "id": "d1a45b4e-33be-4eff-8abf-342707c9d7cb",
   "metadata": {},
   "source": [
    "Although there are many coding languages, some of the most popular among Data Scientists are:\n",
    "1. Python\n",
    "2. R\n",
    "3. SQL\n",
    "4. Java"
   ]
  },
  {
   "cell_type": "markdown",
   "id": "54097af9-f141-40f9-9b14-fbc0cf4c8555",
   "metadata": {},
   "source": [
    "A few of the most commonly used libraries include:\n",
    "1. NumPy\n",
    "2. Pandas\n",
    "3. SciPy"
   ]
  },
  {
   "cell_type": "markdown",
   "id": "271b4690-ffd6-473e-8450-dc2d5ad8832b",
   "metadata": {},
   "source": [
    "| Data Science Tools |\n",
    "|------|\n",
    "| Jupyter |\n",
    "| Hadoop |\n",
    "| Apache Spark |"
   ]
  },
  {
   "cell_type": "markdown",
   "id": "18741e7f-0d8a-4926-b6f4-3faaa502c6df",
   "metadata": {},
   "source": [
    "### Here are some examples of using Python to evaluate arithmetic expressions:"
   ]
  },
  {
   "cell_type": "code",
   "execution_count": 1,
   "id": "dad9a5db-4b27-47c3-a4e2-3986cba71b71",
   "metadata": {},
   "outputs": [
    {
     "data": {
      "text/plain": [
       "17"
      ]
     },
     "execution_count": 1,
     "metadata": {},
     "output_type": "execute_result"
    }
   ],
   "source": [
    "# This is a simple arithmetic expression to multiply and then add integers together:\n",
    "\n",
    "(3*4)+5"
   ]
  },
  {
   "cell_type": "code",
   "execution_count": 3,
   "id": "ca79ae36-de48-4d00-af9c-958f3b5f75c5",
   "metadata": {},
   "outputs": [
    {
     "name": "stdout",
     "output_type": "stream",
     "text": [
      "3.3333333333333335 hours\n"
     ]
    }
   ],
   "source": [
    "# This is another simple arithmetic expression to convert 200 minutes to hours by dividing it by 60.\n",
    "time = 200/60\n",
    "print(time,'hours')"
   ]
  },
  {
   "cell_type": "markdown",
   "id": "baf4f2e8-cdc7-4a32-bb68-346ede7a0e0a",
   "metadata": {},
   "source": [
    "## Author\n",
    "Victoria ('Percy') Raggi"
   ]
  }
 ],
 "metadata": {
  "kernelspec": {
   "display_name": "Python 3 (ipykernel)",
   "language": "python",
   "name": "python3"
  },
  "language_info": {
   "codemirror_mode": {
    "name": "ipython",
    "version": 3
   },
   "file_extension": ".py",
   "mimetype": "text/x-python",
   "name": "python",
   "nbconvert_exporter": "python",
   "pygments_lexer": "ipython3",
   "version": "3.12.8"
  }
 },
 "nbformat": 4,
 "nbformat_minor": 5
}
